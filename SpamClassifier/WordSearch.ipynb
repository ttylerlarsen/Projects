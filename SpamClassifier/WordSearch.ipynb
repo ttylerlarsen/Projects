{
 "cells": [
  {
   "cell_type": "markdown",
   "metadata": {},
   "source": [
    "### Word Search Efficiency Scratch Work"
   ]
  },
  {
   "cell_type": "code",
   "execution_count": 1,
   "metadata": {},
   "outputs": [],
   "source": [
    "import numpy as np\n",
    "import pandas as pd\n",
    "import re"
   ]
  },
  {
   "cell_type": "code",
   "execution_count": 2,
   "metadata": {},
   "outputs": [],
   "source": [
    "# reset our data\n",
    "original_training_data = pd.read_csv('data/train.csv')\n",
    "original_training_data['email'] = original_training_data['email'].astype('str') \n",
    "original_training_data['subject'] = original_training_data['subject'].astype('str') "
   ]
  },
  {
   "cell_type": "code",
   "execution_count": 3,
   "metadata": {},
   "outputs": [],
   "source": [
    "def top_counts(data):\n",
    "    all_words = ' '.join(list(data))\n",
    "    counts = dict()\n",
    "    words = all_words.split()\n",
    "    for word in words:\n",
    "        if word in counts:\n",
    "            counts[word] += 1\n",
    "        else:\n",
    "            counts[word] = 1\n",
    "    counts = pd.Series(list(counts.values()), index=list(counts.keys()))\n",
    "    counts = counts.sort_values(ascending=False)[:150]\n",
    "    return set(counts.index)\n",
    "\n",
    "ham_words_subj = top_counts(original_training_data[original_training_data['spam']==0]['subject'])\n",
    "spam_words_subj = top_counts(original_training_data[original_training_data['spam']==1]['subject'])\n",
    "unique_subj = spam_words_subj.symmetric_difference(ham_words_subj)\n",
    "subj_words = list(unique_subj)"
   ]
  },
  {
   "cell_type": "code",
   "execution_count": 4,
   "metadata": {},
   "outputs": [],
   "source": [
    "## NEEDS OPTIMIZATION!!! ##\n",
    "def words_in_texts(words, texts):\n",
    "    '''\n",
    "    Args:\n",
    "        words (list-like): words to find\n",
    "        texts (Series): strings to search in\n",
    "    \n",
    "    Returns:\n",
    "        NumPy array of 0s and 1s with shape (n, p) where n is the\n",
    "        number of texts and p is the number of words.\n",
    "    '''\n",
    "    indicator_array = np.zeros((len(texts), len(words)))\n",
    "    for i in range(len(texts)):\n",
    "        for j in range(len(words)):\n",
    "            if words[j] in texts[i].split():\n",
    "                indicator_array[i][j] = 1\n",
    "    return indicator_array"
   ]
  },
  {
   "cell_type": "code",
   "execution_count": 23,
   "metadata": {},
   "outputs": [],
   "source": [
    "# make sure to pass in a series\n",
    "\n",
    "def words_in_texts3(words, texts):\n",
    "    indicator_array = np.array([pd.Series([1 if word in text else 0 for word in words]) for text in texts])\n",
    "    return indicator_array"
   ]
  },
  {
   "cell_type": "code",
   "execution_count": 16,
   "metadata": {},
   "outputs": [
    {
     "name": "stdout",
     "output_type": "stream",
     "text": [
      "[[0 1 0]\n",
      " [0 0 0]\n",
      " [0 1 0]\n",
      " [1 0 0]]\n"
     ]
    }
   ],
   "source": [
    "words = [\"My\", \"Name\", \"Is\", \"Tyler\"]\n",
    "texts = pd.Series([\"Tyler goes to cal\", \"My dog Is named dexter\", \"nothing nothing nothing\"])\n",
    "result = words_in_texts3(words, texts)\n",
    "print(result)"
   ]
  },
  {
   "cell_type": "code",
   "execution_count": null,
   "metadata": {},
   "outputs": [],
   "source": [
    "# helper function\n",
    "def create_dict(words):\n",
    "    d = {}\n",
    "    for word in words:\n",
    "        d[word] = 0\n",
    "    return d\n",
    "\n",
    "def words_in_texts2(words, texts):\n",
    "    indicator_array = pd.DataFrame()\n",
    "    #for i in range(len(texts)):\n",
    "    for i in range(1):\n",
    "        words_dict = create_dict(words)\n",
    "        text = texts[i].split()\n",
    "        for w in words_dict.keys():\n",
    "            if w in text:\n",
    "                words_dict[w] = 1\n",
    "        indicator_array.insert(i, i, list(words_dict.values()))\n",
    "    return indicator_array"
   ]
  },
  {
   "cell_type": "markdown",
   "metadata": {},
   "source": [
    "__The time it takes the below cell to run needs to be minimized:__  \n",
    "Current time: 23 s  \n",
    "Viraj time: 51 s"
   ]
  },
  {
   "cell_type": "code",
   "execution_count": 22,
   "metadata": {},
   "outputs": [
    {
     "data": {
      "text/plain": [
       "str"
      ]
     },
     "execution_count": 22,
     "metadata": {},
     "output_type": "execute_result"
    }
   ],
   "source": [
    "type(original_training_data['subject'][6])"
   ]
  },
  {
   "cell_type": "code",
   "execution_count": 25,
   "metadata": {},
   "outputs": [
    {
     "name": "stdout",
     "output_type": "stream",
     "text": [
      "(8348, 230)\n",
      "CPU times: user 2.21 s, sys: 90.8 ms, total: 2.3 s\n",
      "Wall time: 2.28 s\n"
     ]
    }
   ],
   "source": [
    "%%time\n",
    "subj_word_df1 = pd.DataFrame(words_in_texts3(subj_words, pd.Series(original_training_data['subject'])), columns=subj_words)\n",
    "print(subj_word_df1.shape)"
   ]
  },
  {
   "cell_type": "markdown",
   "metadata": {},
   "source": [
    "__Don't run the below cell__"
   ]
  },
  {
   "cell_type": "code",
   "execution_count": 17,
   "metadata": {},
   "outputs": [
    {
     "name": "stdout",
     "output_type": "stream",
     "text": [
      "(8348, 230)\n",
      "CPU times: user 25.1 s, sys: 303 ms, total: 25.4 s\n",
      "Wall time: 26.3 s\n"
     ]
    }
   ],
   "source": [
    "%%time\n",
    "subj_word_df = pd.DataFrame(words_in_texts(subj_words, original_training_data['subject']), columns=subj_words)\n",
    "print(subj_word_df.shape)"
   ]
  },
  {
   "cell_type": "code",
   "execution_count": null,
   "metadata": {},
   "outputs": [],
   "source": []
  }
 ],
 "metadata": {
  "kernelspec": {
   "display_name": "Python 3",
   "language": "python",
   "name": "python3"
  },
  "language_info": {
   "codemirror_mode": {
    "name": "ipython",
    "version": 3
   },
   "file_extension": ".py",
   "mimetype": "text/x-python",
   "name": "python",
   "nbconvert_exporter": "python",
   "pygments_lexer": "ipython3",
   "version": "3.6.4"
  }
 },
 "nbformat": 4,
 "nbformat_minor": 2
}
